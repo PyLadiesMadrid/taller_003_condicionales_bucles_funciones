{
 "cells": [
  {
   "cell_type": "markdown",
   "metadata": {
    "slideshow": {
     "slide_type": "slide"
    }
   },
   "source": [
    "\n",
    "# Taller 003 - PyLadies Madrid\n",
    "\n",
    "\n",
    "# \"Estructuras de control y Funciones\"\n",
    "\n",
    "&nbsp;  \n",
    "\n",
    "<div style=\"text-align: center\">Mabel Delgado, María Medina </div>\n",
    "<div style=\"text-align: center\">Alicia Pérez, Vicky Cortés </div>\n",
    "\n",
    "&nbsp; \n",
    "\n",
    "<center><img src=\"images/pyladiesmadrid_alargado.png\"  style=\"width:220px;\"/> </center>\n",
    "\n"
   ]
  },
  {
   "cell_type": "markdown",
   "metadata": {
    "slideshow": {
     "slide_type": "slide"
    }
   },
   "source": [
    "## ¿Quiénes somos?\n",
    "\n",
    "\n",
    "&nbsp; \n",
    "\n",
    "Organización PyLadies Madrid y de este Taller:\n",
    "* [María Medina](https://twitter.com/mariamedp)  \n",
    "* [Mabel Delgado](https://twitter.com/mabeldelgadob)\n",
    "* [Alicia Pérez](https://twitter.com/alipeji)\n",
    "* [Vicky Cortés](https://twitter.com/vickycmcv)\n",
    "\n",
    "&nbsp; \n",
    "\n",
    "Con las siguientes PyLadies como mentoras voluntarias:\n",
    "* [Wen Lou](https://linkedin.com/in/wen-lou-b48924120)  \n",
    "\n",
    "\n",
    "\n",
    "&nbsp;\n"
   ]
  },
  {
   "cell_type": "markdown",
   "metadata": {
    "slideshow": {
     "slide_type": "slide"
    }
   },
   "source": [
    "## Agenda \n",
    "\n",
    "* Condicionales - if/elif/else\n",
    "* Bucles - for\n",
    "* Bucles - while\n",
    "* Funciones\n",
    "* Retos prácticos\n",
    "\n",
    "\n",
    "<center><img src=\"images/logo_python_letras.png\" width=280px></center>\n",
    "\n"
   ]
  },
  {
   "cell_type": "markdown",
   "metadata": {
    "slideshow": {
     "slide_type": "slide"
    }
   },
   "source": [
    "## Repaso taller 002 - retos prácticos (I)\n",
    "\n",
    "&nbsp;\n",
    "\n",
    "1. Crear dos variables `nombre` y `edad` con tus datos e imprimir el mensaje: \n",
    "   \n",
    "   `\"Hola me llamo <nombre> y tengo <edad> años\"`\n",
    "   "
   ]
  },
  {
   "cell_type": "markdown",
   "metadata": {
    "slideshow": {
     "slide_type": "subslide"
    }
   },
   "source": [
    "## Repaso taller 002 - retos prácticos (II)\n",
    "\n",
    "2. Crear una lista con 5 elementos. Sobre ella:\n",
    "    - Extraer el primer elemento.\n",
    "    - Extraer el último elemento.\n",
    "    - Extraer el tercer elemento.\n",
    "    - Crear una lista invertida.\n",
    "    - Añadir al final un nuevo elemento que sea igual que el segundo.\n",
    "    - Contar el número de elementos de la lista.\n",
    "    - Quitar el primer elemento de la lista.\n",
    "    - Contar el número de veces que se repite el 1er elemento en toda la lista.\n",
    "    \n",
    "    "
   ]
  },
  {
   "cell_type": "markdown",
   "metadata": {
    "slideshow": {
     "slide_type": "slide"
    }
   },
   "source": [
    "## Condicionales - if/elif/else  \n",
    "\n",
    "&nbsp;\n",
    "\n",
    "```PYTHON\n",
    "if <condition>:\n",
    "    <do something>\n",
    "elif <condition>:\n",
    "    <do other thing>\n",
    "else:\n",
    "    <do other thing>\n",
    "```"
   ]
  },
  {
   "cell_type": "markdown",
   "metadata": {
    "slideshow": {
     "slide_type": "slide"
    }
   },
   "source": [
    "## Condicionales - if/elif/else  \n",
    "\n",
    "&nbsp;\n",
    "\n",
    "```PYTHON\n",
    "if a > 1:\n",
    "    print('a es mayor que 1')\n",
    "elif a < 1:\n",
    "    print('a es menor que 1')\n",
    "else:\n",
    "    print('a es igual a 1')\n",
    "```"
   ]
  },
  {
   "cell_type": "markdown",
   "metadata": {
    "slideshow": {
     "slide_type": "slide"
    }
   },
   "source": [
    "## Bucles - for\n",
    "\n",
    "&nbsp;\n",
    "\n",
    "Los bucles for recorren un conjunto de elementos:\n",
    "```PYTHON\n",
    "for <element> in <iterable_object>:\n",
    "    <do whatever...>\n",
    "```\n",
    "Como en el caso de los condicionales, los bloques se separan por indentación."
   ]
  },
  {
   "cell_type": "markdown",
   "metadata": {
    "slideshow": {
     "slide_type": "slide"
    }
   },
   "source": [
    "## Bucles - for\n",
    "\n",
    "&nbsp;\n",
    "\n",
    "```PYTHON\n",
    "mis_regalos = ['libro', 'cuaderno', 'reloj']\n",
    "\n",
    "for elem in mis_regalos:\n",
    "    print('Me han regalado un: {}'.format(elem))\n",
    "```"
   ]
  },
  {
   "cell_type": "markdown",
   "metadata": {
    "slideshow": {
     "slide_type": "fragment"
    }
   },
   "source": [
    "```PYTHON\n",
    "mi_nombre = 'Camila'\n",
    "for letra in mi_nombre:\n",
    "    print(letra)\n",
    "```"
   ]
  },
  {
   "cell_type": "markdown",
   "metadata": {
    "slideshow": {
     "slide_type": "slide"
    }
   },
   "source": [
    "## Bucles - while\n",
    "\n",
    "&nbsp;\n",
    "Otros bucles en Python son el bucle while, que repiten las sentencias anidadas en ellos mientras se cumpla una condición:\n",
    "```PYTHON\n",
    "while <condition>:\n",
    "    <things to do>\n",
    "```\n",
    "Como en el resto de estructuras de control, los bloques se separan por indentación."
   ]
  },
  {
   "cell_type": "markdown",
   "metadata": {
    "slideshow": {
     "slide_type": "slide"
    }
   },
   "source": [
    "## Bucles - while\n",
    "\n",
    "&nbsp;\n",
    "\n",
    "```PYTHON\n",
    "contador = 0\n",
    "while contador < 5:\n",
    "    print(contador)\n",
    "    contador += 1\n",
    "```\n"
   ]
  },
  {
   "cell_type": "markdown",
   "metadata": {
    "slideshow": {
     "slide_type": "slide"
    }
   },
   "source": [
    "## Otros comandos control de flujo\n",
    "\n",
    "&nbsp;\n",
    "\n",
    "```PYTHON\n",
    "pass\n",
    "```\n",
    "\n",
    "```PYTHON\n",
    "break\n",
    "```\n",
    "\n",
    "```PYTHON\n",
    "continue\n",
    "```\n"
   ]
  },
  {
   "cell_type": "markdown",
   "metadata": {
    "slideshow": {
     "slide_type": "slide"
    }
   },
   "source": [
    "## Funciones\n",
    "\n",
    "&nbsp;\n",
    "\n",
    "```PYTHON\n",
    "def sumale_tres(value):\n",
    "    value += 3\n",
    "    return value\n",
    "sumale_tres(7)\n",
    "\n",
    "```"
   ]
  },
  {
   "cell_type": "markdown",
   "metadata": {
    "slideshow": {
     "slide_type": "slide"
    }
   },
   "source": [
    "## ¿Y ahora?\n",
    "\n",
    "* Practicar.\n",
    "* Preguntar.\n",
    "* Investigar y leer documentación.\n",
    "\n",
    "&nbsp;  \n",
    "\n",
    "### ¡Gracias por asistir!\n",
    "\n",
    "&nbsp;\n"
   ]
  },
  {
   "cell_type": "code",
   "execution_count": 1,
   "metadata": {
    "slideshow": {
     "slide_type": "skip"
    }
   },
   "outputs": [
    {
     "data": {
      "text/html": [
       "<link href='http://fonts.googleapis.com/css?family=Source+Sans+Pro|Josefin+Sans:400,700,400italic|Ubuntu+Condensed' rel='stylesheet' type='text/css'>\n",
       "\n",
       "\n",
       "<style>\n",
       "\n",
       "#notebook_panel { /* main background */\n",
       "    background: #f7f7f7;\n",
       "}\n",
       "\n",
       "#notebook li { /* More space between bullet points */\n",
       "    margin-top:0.5em;\n",
       "}\n",
       "\n",
       "div.cell { /* set cell width */\n",
       "    width: 900px;\n",
       "}\n",
       "\n",
       "div #notebook { /* centre the content */\n",
       "    background: #fff; /* white background for content */\n",
       "    width: 1000px;\n",
       "    margin: auto;\n",
       "    padding-left: 0em;\n",
       "}\n",
       "\n",
       "/* Put a solid color box around each cell and its output, visually linking them*/\n",
       "div.cell.code_cell {\n",
       "    font-family: 'Source Sans Pro', sans-serif;\n",
       "    width: 900px;\n",
       "}\n",
       "\n",
       "div.text_cell_render{\n",
       "    font-family: 'Josefin Sans', serif;\n",
       "    font-size: 18pt;\n",
       "}\n",
       "\n",
       "\n",
       "/* Formatting for header cells */\n",
       ".text_cell_render h1, .text_cell_render h2, .text_cell_render h3,\n",
       ".text_cell_render h4, .text_cell_render h5 {\n",
       "    font-family: 'Ubuntu Condensed', sans-serif;\n",
       "}\n",
       "\n",
       ".text_cell_render h1 {    /*Use this for Title*/\n",
       "    font-weight: 500;\n",
       "    font-size: 38pt;\n",
       "    line-height: 100%;\n",
       "    color: #004E8D;\n",
       "    text-align: center;\n",
       "    margin-bottom: 0.1em;\n",
       "    margin-top: 0.3em;\n",
       "    display: block;\n",
       "}\n",
       "\n",
       ".text_cell_render h2 {    /*Use this for Subtitle*/\n",
       "    margin-top:16px;\n",
       "    font-size: 32pt;\n",
       "    font-weight: 500;\n",
       "    margin-bottom: 0.1em;\n",
       "    margin-top: 0.3em;\n",
       "    text-align: center;\n",
       "    font-style: regular;\n",
       "    color: #252525;\n",
       "}\t\n",
       "\n",
       ".text_cell_render h3 {   /*Date*/ \n",
       "    font-size: 26pt;\n",
       "    font-weight: 200;\n",
       "    text-align: center;\n",
       "    margin-bottom: 0.1em;\n",
       "    margin-top: 0.3em;\n",
       "    font-style: regular;\n",
       "    color:  #252525;\n",
       "}\n",
       "\n",
       ".text_cell_render h4 {    /*Sections*/ \n",
       "    font-size: 28pt;\n",
       "    font-weight: 200;\n",
       "    text-align: left;\n",
       "    margin-bottom: 0.1em;\n",
       "    margin-top: 0.3em;\n",
       "    font-style: regular;\n",
       "    color:  #252525;\n",
       "}\n",
       "\n",
       ".text_cell_render h5 {    /*Subsections*/\n",
       "    font-size: 20pt;\n",
       "    font-weight: 300;\n",
       "    font-style: italic;\n",
       "    margin-bottom: .1em;\n",
       "    margin-top: 0.8em;\n",
       "    display: block;\n",
       "    color:  #004E8D;\n",
       "}\n",
       "\n",
       ".text_cell_render h6 {    /*Author*/\n",
       "    font-family: 'Ubuntu Condensed', sans-serif;\n",
       "    font-weight: 100;\n",
       "    font-size: 17pt;\n",
       "    line-height: 100%;\n",
       "    color: #AC4811;\n",
       "    text-align: right;\n",
       "    margin-bottom: 1px;\n",
       "    margin-top: 3px;\n",
       "}\n",
       "\n",
       ".CodeMirror{\n",
       "        font-family: 'Duru Sans', sans-serif;\n",
       "        font-size: 100%;\n",
       "}\n",
       "\n",
       "</style>\n",
       "<script>\n",
       "    MathJax.Hub.Config({\n",
       "                        TeX: {\n",
       "                           extensions: [\"AMSmath.js\"],\n",
       "                           equationNumbers: { autoNumber: \"AMS\", useLabelIds: true}\n",
       "                           },\n",
       "                tex2jax: {\n",
       "                    inlineMath: [ ['$','$'], [\"\\\\(\",\"\\\\)\"] ],\n",
       "                    displayMath: [ ['$$','$$'], [\"\\\\[\",\"\\\\]\"] ]\n",
       "                },\n",
       "                displayAlign: 'center', // Change this to 'center' to center equations.\n",
       "                \"HTML-CSS\": {\n",
       "                    styles: {'.MathJax_Display': {\"margin\": 4}}\n",
       "                }\n",
       "        });\n",
       "</script>\n"
      ],
      "text/plain": [
       "<IPython.core.display.HTML object>"
      ]
     },
     "execution_count": 1,
     "metadata": {},
     "output_type": "execute_result"
    }
   ],
   "source": [
    "# preserve\n",
    "from IPython.core.display import HTML\n",
    "css_file = 'styles/style.css'\n",
    "HTML(open(css_file, \"r\").read())"
   ]
  }
 ],
 "metadata": {
  "celltoolbar": "Slideshow",
  "kernelspec": {
   "display_name": "Python 3",
   "language": "python",
   "name": "python3"
  },
  "language_info": {
   "codemirror_mode": {
    "name": "ipython",
    "version": 3
   },
   "file_extension": ".py",
   "mimetype": "text/x-python",
   "name": "python",
   "nbconvert_exporter": "python",
   "pygments_lexer": "ipython3",
   "version": "3.6.4"
  }
 },
 "nbformat": 4,
 "nbformat_minor": 2
}
